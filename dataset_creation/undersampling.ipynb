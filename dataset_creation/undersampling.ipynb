{
 "cells": [
  {
   "cell_type": "code",
   "execution_count": null,
   "id": "b5bfc4ea",
   "metadata": {},
   "outputs": [],
   "source": [
    "import pandas as pd\n",
    "import random\n",
    "import os\n",
    "import sklearn\n",
    "from sklearn.neighbors import NearestNeighbors\n",
    "from math import radians"
   ]
  },
  {
   "cell_type": "code",
   "execution_count": null,
   "id": "239f7578",
   "metadata": {},
   "outputs": [],
   "source": [
    "static_df = pd.read_csv('data/datasets/static_variables.csv', index_col=[0])"
   ]
  },
  {
   "cell_type": "code",
   "execution_count": null,
   "id": "9398baa3",
   "metadata": {},
   "outputs": [],
   "source": [
    "out_fire_df = None\n",
    "\n",
    "n_s = [5]\n",
    "\n",
    "for non_zero_n in n_s:\n",
    "    out_fire_df = None\n",
    "    for i in range(20):\n",
    "        out_zero_df = None\n",
    "        \n",
    "        for root, dirs, files in os.walk('data/datasets/raw_datasets'):\n",
    "            files = [file for file in files if file[:4] in [\"2015\", \"2016\", \"2017\", \"2018\", \"2019\"]]\n",
    "            for file in files:\n",
    "                print(file)\n",
    "                out_df = pd.concat([static_df, pd.read_csv(os.path.join(root, file), index_col=[0])], axis=1)\n",
    "                \n",
    "                if i == 0:\n",
    "                    fire_df = out_df.loc[out_df[\"TARGET\"] == 1]\n",
    "                    if out_fire_df is None:\n",
    "                        if not fire_df.empty:\n",
    "                            out_fire_df = fire_df\n",
    "                    else:\n",
    "                        out_fire_df = pd.concat([out_fire_df, fire_df])\n",
    "                nonfire_df = out_df.loc[out_df[\"TARGET\"] == 0]\n",
    "                index = list(nonfire_df.index)\n",
    "                sample = random.sample(index, non_zero_n)\n",
    "                \n",
    "                nearest_df = nonfire_df.copy()\n",
    "                nearest_df[\"lat\"] = nearest_df[\"lat\"].apply(lambda x: radians(x))\n",
    "                nearest_df[\"lon\"] = nearest_df[\"lon\"].apply(lambda x: radians(x))\n",
    "                nbrs = NearestNeighbors(n_neighbors=1, algorithm=\"auto\",\n",
    "                                        metric='haversine').fit(nearest_df.loc[sample][[\"lon\", \"lat\"]].values)\n",
    "                distances, indices = nbrs.kneighbors(nearest_df[[\"lon\", \"lat\"]].values)\n",
    "                indices = indices.flatten()\n",
    "                distances = distances * 6371\n",
    "                \n",
    "                incl_indices = set()\n",
    "                \n",
    "                for j, point in enumerate(sample):\n",
    "                    nearest_sub_df = nearest_df.loc[indices == j].copy()\n",
    "                    nearest_sub_df[\"d\"] = distances[indices == j]\n",
    "                    \n",
    "                    incl_indices = incl_indices.union(set(nearest_sub_df[\"d\"].nsmallest(100).index))\n",
    "                \n",
    "                incl_indices = list(incl_indices)\n",
    "                \n",
    "                if out_zero_df is None:\n",
    "                    out_zero_df = out_df.loc[incl_indices]\n",
    "                else:\n",
    "                    out_zero_df = pd.concat([out_zero_df, out_df.loc[incl_indices]])\n",
    "            \n",
    "        plt.plot(*CA.exterior.xy)\n",
    "        plt.scatter(out_zero_df[\"lon\"].values, out_zero_df[\"lat\"].values, s=0.1)\n",
    "        plt.scatter(out_fire_df[\"lon\"].values, out_fire_df[\"lat\"].values, c='red', s=0.1, alpha=0.5)\n",
    "        plt.show()\n",
    "        pd.concat([out_zero_df, out_fire_df]).to_csv(f\"data/datasets/final_datasets/{i}.csv\")"
   ]
  },
  {
   "cell_type": "markdown",
   "id": "0c3eed72",
   "metadata": {},
   "source": [
    "### Validációs és teszt adathalmazok"
   ]
  },
  {
   "cell_type": "code",
   "execution_count": null,
   "id": "5d8563b0",
   "metadata": {},
   "outputs": [],
   "source": [
    "validation_set = None\n",
    "\n",
    "for root, _, files in os.walk(\"data/datasets/raw_datasets\"):\n",
    "    files = [file for file in files if file.startswith(\"2020\")]\n",
    "    files = sorted(files, key=lambda x: int(x[:-4].split(\"-\")[1]))\n",
    "    for file in files:\n",
    "        month_df = pd.concat([static_df, pd.read_csv(os.path.join(root, file), index_col=[0])], axis=1)\n",
    "        if validation_set is None:\n",
    "            validation_set = month_df\n",
    "        else:\n",
    "            validation_set = pd.concat([validation_set, month_df])\n",
    "validation_set.index = [*range(5115924)]\n",
    "\n",
    "validation_set.to_csv(\"data/datasets/validation_2020.csv\")\n",
    "\n",
    "del validation_set\n",
    "\n",
    "test_set = None\n",
    "\n",
    "for root, _, files in os.walk(\"data/datasets/raw_datasets\"):\n",
    "    files = [file for file in files if file.startswith(\"2021\")]\n",
    "    files = sorted(files, key=lambda x: int(x[:-4].split(\"-\")[1]))\n",
    "    for file in files:\n",
    "        month_df = pd.concat([static_df, pd.read_csv(os.path.join(root, file), index_col=[0])], axis=1)\n",
    "        if test_set is None:\n",
    "            test_set = month_df\n",
    "        else:\n",
    "            test_set = pd.concat([test_set, month_df])\n",
    "test_set.index = [*range(5115924)]\n",
    "\n",
    "test_set.to_csv(\"data/datasets/test_2021.csv\")"
   ]
  }
 ],
 "metadata": {
  "kernelspec": {
   "display_name": "Python 3",
   "language": "python",
   "name": "python3"
  },
  "language_info": {
   "codemirror_mode": {
    "name": "ipython",
    "version": 3
   },
   "file_extension": ".py",
   "mimetype": "text/x-python",
   "name": "python",
   "nbconvert_exporter": "python",
   "pygments_lexer": "ipython3",
   "version": "3.8.8"
  }
 },
 "nbformat": 4,
 "nbformat_minor": 5
}
