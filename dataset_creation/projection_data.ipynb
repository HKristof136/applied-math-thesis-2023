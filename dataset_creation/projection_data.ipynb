{
 "cells": [
  {
   "cell_type": "code",
   "execution_count": null,
   "id": "f99043cb",
   "metadata": {},
   "outputs": [],
   "source": [
    "import netCDF4\n",
    "import pandas as pd\n",
    "import numpy as np\n",
    "import os\n",
    "import json\n",
    "import pathlib\n",
    "from shapely import geometry\n",
    "from datetime import date, timedelta"
   ]
  },
  {
   "cell_type": "markdown",
   "id": "ff521759",
   "metadata": {},
   "source": [
    "## PRCP"
   ]
  },
  {
   "cell_type": "code",
   "execution_count": null,
   "id": "b841696e",
   "metadata": {},
   "outputs": [],
   "source": [
    "month_dict = {1: 31, 2: 28, 3: 31, 4: 30, 5: 31, 6: 30, 7: 31, 8: 31, 9: 30, 10: 31, 11: 30, 12: 31}"
   ]
  },
  {
   "cell_type": "code",
   "execution_count": null,
   "id": "412b562e",
   "metadata": {},
   "outputs": [],
   "source": [
    "path = \"data/input/PROJECTION/PRCP\"\n",
    "\n",
    "for file in os.listdir(path):\n",
    "    if file.endswith(\"nc\"):\n",
    "        dataset = netCDF4.Dataset(f\"{path}/{file}\")\n",
    "        lats = dataset.variables['latitude'][0:].data.flatten()\n",
    "        lons = dataset.variables['longitude'][0:].data.flatten() - 360\n",
    "        time = dataset.variables['time'][0:].data.flatten()\n",
    "        \n",
    "        pr_data = dataset.variables['pr'][0:].data\n",
    "        for t, data in zip(time, pr_data):\n",
    "            data_dict = {\"lon\": [], \"lat\": [], \"value\": []}\n",
    "            \n",
    "            if not d.endswith(\"4\"):\n",
    "                dt = date.fromordinal(int(t))\n",
    "            else:\n",
    "                dt = date(2007, 1, 1) + timedelta(int(t))\n",
    "            year, month = dt.year, dt.month\n",
    "            \n",
    "            if year < 2022:\n",
    "                continue\n",
    "                    \n",
    "            if year > 2049:\n",
    "                continue\n",
    "            \n",
    "            for i, lat_coord in enumerate(lats):\n",
    "                for j, lon_coord in enumerate(lons):\n",
    "                    if data[i, j] > -1000:\n",
    "                        data_dict[\"lon\"].append(lon_coord)\n",
    "                        data_dict[\"lat\"].append(lat_coord)\n",
    "                        data_dict[\"value\"].append(data[i, j] * 86400 * month_dict[month])\n",
    "            pd.DataFrame(data_dict).to_csv(f\"{path}/grid_data/{year}-{month}.csv\")"
   ]
  },
  {
   "cell_type": "markdown",
   "id": "5e58d55c",
   "metadata": {},
   "source": [
    "## TAVG"
   ]
  },
  {
   "cell_type": "code",
   "execution_count": null,
   "id": "f029d3f7",
   "metadata": {},
   "outputs": [],
   "source": [
    "path = \"data/input/PROJECTION/TAVG\"\n",
    "\n",
    "for file in os.listdir(f\"{path}\"):\n",
    "    if file.endswith(\"nc\"):\n",
    "        dataset = netCDF4.Dataset(f\"{path}/{file}\")\n",
    "        lats = dataset.variables['lat'][0:].data.flatten()\n",
    "        lons = dataset.variables['lon'][0:].data.flatten() - 360\n",
    "        time = dataset.variables['time'][0:].data.flatten()\n",
    "            \n",
    "        temp_data = dataset.variables['ts'][0:].data\n",
    "        for t, data in zip(time, temp_data):\n",
    "            data_dict = {\"lon\": [], \"lat\": [], \"value\": []}\n",
    "            \n",
    "            if not d.endswith(\"4\"):\n",
    "                dt = date.fromordinal(int(t))\n",
    "            else:\n",
    "                dt = date(2015, 1, 1) + timedelta(int(t))\n",
    "            year, month = dt.year, dt.month\n",
    "            \n",
    "            if year < 2022:\n",
    "                continue\n",
    "            for i, lat_coord in enumerate(lats):\n",
    "                for j, lon_coord in enumerate(lons):\n",
    "                    if data[i, j] > -1000:\n",
    "                        data_dict[\"lon\"].append(lon_coord)\n",
    "                        data_dict[\"lat\"].append(lat_coord)\n",
    "                        data_dict[\"value\"].append(data[i, j] - 273.15)\n",
    "            pd.DataFrame(data_dict).to_csv(f\"{path}/grid_data/{year}-{month}.csv\")"
   ]
  },
  {
   "cell_type": "markdown",
   "id": "401b4f0d",
   "metadata": {},
   "source": [
    "## DROUGHT"
   ]
  },
  {
   "cell_type": "code",
   "execution_count": null,
   "id": "794b233a",
   "metadata": {},
   "outputs": [],
   "source": [
    "path = \"data/input/PROJECTION/DROUGHT\"\n",
    "\n",
    "for file in os.listdir(f\"{path}/{d}\"):\n",
    "    if file.endswith(\"nc\"):\n",
    "        dataset = netCDF4.Dataset(f\"{path}/{file}\")\n",
    "            \n",
    "        lats = dataset.variables['lat'][36:42].data.flatten()\n",
    "        lons = dataset.variables['lon'][22:27].data.flatten()\n",
    "        time = dataset.variables['time'][1473:1800].data.flatten()\n",
    "            \n",
    "        pdsi_data = dataset.variables['pdsisc'][1473:1800].data\n",
    "        for t, data in zip(time, pdsi_data):\n",
    "            data = data[36:42, 22:27]\n",
    "            \n",
    "            data_dict = {\"lon\": [], \"lat\": [], \"value\": []}\n",
    "            \n",
    "            year, month = int(t), int(round((t - int(t)) * 12 + 0.5, 0))\n",
    "            \n",
    "            for i, lat_coord in enumerate(lats):\n",
    "                for j, lon_coord in enumerate(lons):\n",
    "                    if data[i, j] > -1000:\n",
    "                        data_dict[\"lon\"].append(lon_coord)\n",
    "                        data_dict[\"lat\"].append(lat_coord)\n",
    "                        data_dict[\"value\"].append(data[i, j])\n",
    "            pd.DataFrame(data_dict).to_csv(f\"{path}/grid_data/{year}-{month}.csv\")"
   ]
  }
 ],
 "metadata": {
  "kernelspec": {
   "display_name": "Python 3",
   "language": "python",
   "name": "python3"
  },
  "language_info": {
   "codemirror_mode": {
    "name": "ipython",
    "version": 3
   },
   "file_extension": ".py",
   "mimetype": "text/x-python",
   "name": "python",
   "nbconvert_exporter": "python",
   "pygments_lexer": "ipython3",
   "version": "3.8.8"
  }
 },
 "nbformat": 4,
 "nbformat_minor": 5
}
