{
 "cells": [
  {
   "cell_type": "code",
   "execution_count": null,
   "id": "94d8771b",
   "metadata": {},
   "outputs": [],
   "source": [
    "import pandas as pd\n",
    "import numpy as np"
   ]
  },
  {
   "cell_type": "code",
   "execution_count": null,
   "id": "9ad88b32",
   "metadata": {},
   "outputs": [],
   "source": [
    "cost_df = pd.read_excel(\"data/input/FIRE/fire_cost.xlsx\")\n",
    "\n",
    "for col in cost_df.columns:\n",
    "    if col != \"year\":\n",
    "        cost_df[col] = cost_df[col].str[1:]\n",
    "        cost_df[col] = cost_df[col].str.replace(',', '')\n",
    "        cost_df[col] = cost_df[col].astype(np.float64)\n",
    "cost_df.index = cost_df[\"year\"]\n",
    "cost_df = cost_df.drop(columns=[\"year\"])\n",
    "cost_df = cost_df[[col for col in cost_df.columns if col != 'Total']][-5:]\n",
    "\n",
    "cost_df = cost_df.astype(np.int64).round(-3)\n",
    "# cost_df.loc[2017, ['C', 'E']] -= 2*10**9\n",
    "cost_df.to_csv(\"data/input/FIRE/fire_cost.csv\")"
   ]
  },
  {
   "cell_type": "markdown",
   "id": "034fba4c",
   "metadata": {},
   "source": [
    "## Filter the Fire data"
   ]
  },
  {
   "cell_type": "code",
   "execution_count": null,
   "id": "6f12e697",
   "metadata": {},
   "outputs": [],
   "source": [
    "import os\n",
    "import json\n",
    "import numpy as np\n",
    "import pandas as pd\n",
    "import geopandas as gpd\n",
    "from shapely import geometry"
   ]
  },
  {
   "cell_type": "code",
   "execution_count": null,
   "id": "6593afeb",
   "metadata": {},
   "outputs": [],
   "source": [
    "state_boundary_file_path = r\"data/input/us-state-boundaries.json\"\n",
    "\n",
    "with open(state_boundary_file_path) as file:\n",
    "    data = json.load(file)\n",
    "CA = data[0]['st_asgeojson']['geometry']['coordinates'][0][0]\n",
    "CA = geometry.Polygon(CA)\n",
    "CA"
   ]
  },
  {
   "cell_type": "code",
   "execution_count": null,
   "id": "4b1db708",
   "metadata": {},
   "outputs": [],
   "source": [
    "gdf = gpd.read_file(\"data/input/FIRE_DATABASE/S_USA.FinalFirePerimeter.gdb\")\n",
    "\n",
    "gdf.head()"
   ]
  },
  {
   "cell_type": "code",
   "execution_count": null,
   "id": "b47e3f35",
   "metadata": {},
   "outputs": [],
   "source": [
    "isin_CA = set()\n",
    "\n",
    "for _, row in gdf.iterrows():\n",
    "    if row[\"geometry\"] is None:\n",
    "        continue\n",
    "    polygons = list(row[\"geometry\"].geoms)\n",
    "    for poly in polygons:\n",
    "        if CA.intersects(poly):\n",
    "            isin_CA.add(_)"
   ]
  },
  {
   "cell_type": "code",
   "execution_count": null,
   "id": "728f49d8",
   "metadata": {},
   "outputs": [],
   "source": [
    "df = gdf.loc[list(isin_CA)]\n",
    "\n",
    "indices = df[df[\"FIREYEAR\"] >= 2015]['DISCOVERYDATETIME'].dropna().index\n",
    "\n",
    "df = df.loc[indices]\n",
    "df[\"DISCOVERYDATETIME\"] = pd.to_datetime(df[\"DISCOVERYDATETIME\"]).dt.date"
   ]
  },
  {
   "cell_type": "code",
   "execution_count": null,
   "id": "7ec70532",
   "metadata": {},
   "outputs": [],
   "source": [
    "import matplotlib.pyplot as plt\n",
    "\n",
    "static_df = pd.read_csv(\"data/input/static_variables.csv\", index_col=[0])[[\"lon\", \"lat\"]]\n",
    "\n",
    "c = {2015: 'blue', 2016: 'orange', 2017: 'red', 2018: 'purple', 2019: 'brown', 2020: 'red', 2021: 'gray'}\n",
    "\n",
    "fires_by_year = {2015: [], 2016: [], 2017: [], 2018: [], 2019: [], 2020: [], 2021: []}\n",
    "\n",
    "for i, row in df.iterrows():\n",
    "    year = row[\"FIREYEAR\"]\n",
    "    fires_by_year[year] += [*row[\"geometry\"].geoms]"
   ]
  },
  {
   "cell_type": "code",
   "execution_count": null,
   "id": "c8dc57e5",
   "metadata": {},
   "outputs": [],
   "source": [
    "fig, ax = plt.subplots(figsize=(10, 10))\n",
    "\n",
    "ax.set_axis_off()\n",
    "ax.set_title(\"Célváltozó évenkénti lebontásban\", fontsize=24)\n",
    "ax.plot(*CA.exterior.xy, c='black')\n",
    "\n",
    "for year, fires in fires_by_year.items():\n",
    "    plot_x = []\n",
    "    plot_y = []\n",
    "    for fire in fires:\n",
    "        lon_max, lon_min = np.max(fire.exterior.xy[0]), np.min(fire.exterior.xy[0])\n",
    "        lat_max, lat_min = np.max(fire.exterior.xy[1]), np.min(fire.exterior.xy[1])\n",
    "        for i, row in static_df[(static_df[\"lon\"] <= lon_max) & (static_df[\"lon\"] >= lon_min) &\n",
    "                                     (static_df[\"lat\"] <= lat_max) & (static_df[\"lat\"] >= lat_min)].iterrows():\n",
    "            point = geometry.Point(row[\"lon\"], row[\"lat\"])\n",
    "            if fire.contains(point):\n",
    "                plot_x.append(row[\"lon\"])\n",
    "                plot_y.append(row[\"lat\"])\n",
    "    ax.plot(plot_x, plot_y, 'o', markersize=0.4, label=year) # c=c[year]\n",
    "    \n",
    "    if year == 2019:\n",
    "        break\n",
    "\n",
    "legend = ax.legend(fontsize=14)\n",
    "for i in range(5):\n",
    "    legend.legendHandles[i]._legmarker.set_markersize(12)\n",
    "plt.savefig(\"data/output/fire_var_plot.png\")\n",
    "plt.show()"
   ]
  },
  {
   "cell_type": "code",
   "execution_count": null,
   "id": "c65600a6",
   "metadata": {},
   "outputs": [],
   "source": [
    "from pyproj import Geod\n",
    "from shapely import wkt\n",
    "\n",
    "geod = Geod(ellps=\"WGS84\")\n",
    "\n",
    "df[\"TOTALKM^2\"] = df.apply(lambda x: np.sum(abs(np.array(geod.geometry_area_perimeter(x[\"geometry\"])))), axis=1)\n",
    "\n",
    "df[\"TOTALKM^2\"] *= (1/10**6)\n",
    "\n",
    "df[\"TOTALACRES\"] = 247.105381 * df[\"TOTALKM^2\"]\n",
    "\n",
    "df.to_csv(r\"data/input/FIRE/fire_database.csv\")"
   ]
  },
  {
   "cell_type": "markdown",
   "id": "ead0d467",
   "metadata": {},
   "source": [
    "## Estimating the cost/fire"
   ]
  },
  {
   "cell_type": "code",
   "execution_count": null,
   "id": "468dfc23",
   "metadata": {},
   "outputs": [],
   "source": [
    "fire_data = pd.read_csv(\"data/input/FIRE/fire_database.csv\", index_col=[0])\n",
    "fire_data"
   ]
  },
  {
   "cell_type": "code",
   "execution_count": null,
   "id": "83f3f694",
   "metadata": {},
   "outputs": [],
   "source": [
    "fire_class_map = pd.read_csv(\"data/input/FIRE/fire_class_map.csv\", sep=\";\")\n",
    "fire_class_map[\"lower\"] = fire_class_map[\"lower\"].str.replace(\",\", \".\").astype(float)\n",
    "fire_class_map[\"upper\"] = fire_class_map[\"upper\"].str.replace(\",\", \".\").astype(float)\n",
    "fire_class_map"
   ]
  },
  {
   "cell_type": "code",
   "execution_count": null,
   "id": "2f884555",
   "metadata": {},
   "outputs": [],
   "source": [
    "for i, row in fire_data.iterrows():\n",
    "    for c, l, u in fire_class_map.values:\n",
    "        if (row[\"TOTALACRES\"] >= l) & (row[\"TOTALACRES\"] < u):\n",
    "            fire_data.loc[i, \"SIZECLASS\"] = c\n",
    "\n",
    "class_count_dict = fire_data[\"SIZECLASS\"].value_counts().to_dict()\n",
    "class_count_dict"
   ]
  },
  {
   "cell_type": "code",
   "execution_count": null,
   "id": "5c7d461c",
   "metadata": {},
   "outputs": [],
   "source": [
    "fire_cost = pd.read_csv(\"data/input/FIRE/fire_cost.csv\", index_col=[0])\n",
    "\n",
    "fire_cost = fire_cost.sum().astype(np.int64).to_dict()\n",
    "fire_cost"
   ]
  },
  {
   "cell_type": "code",
   "execution_count": null,
   "id": "735d6757",
   "metadata": {},
   "outputs": [],
   "source": [
    "pd.DataFrame({k: [fire_cost[k] / class_count_dict[k]] for k in fire_cost}, index=[\"kárbecslés / tűz ($)\"]).round(-3).astype(np.int64)[[\"C\", \"D\", \"E\", \"F\", \"G\"]]"
   ]
  },
  {
   "cell_type": "code",
   "execution_count": null,
   "id": "21cc13e7",
   "metadata": {},
   "outputs": [],
   "source": [
    "fire_data['COST'] = 0\n",
    "\n",
    "for i, row in fire_data.iterrows():\n",
    "    fire_data.loc[i, \"COST\"] = fire_cost[row[\"SIZECLASS\"]] / class_count_dict[row[\"SIZECLASS\"]]\n",
    "\n",
    "fire_data = fire_data[fire_data[\"SIZECLASS\"].isin([\"C\", \"D\", \"E\", \"F\", \"G\"])]\n",
    "\n",
    "fire_data"
   ]
  },
  {
   "cell_type": "code",
   "execution_count": null,
   "id": "52348314",
   "metadata": {},
   "outputs": [],
   "source": [
    "fire_data.to_csv(\"data/input/FIRE/fire_df.csv\")"
   ]
  },
  {
   "cell_type": "code",
   "execution_count": null,
   "id": "5d8838d2",
   "metadata": {},
   "outputs": [],
   "source": [
    "import random\n",
    "\n",
    "fire_data = pd.read_csv(\"fire/fire_df.csv\", index_col=[0])\n",
    "\n",
    "fire_distribution_df = pd.read_csv(\"fire/fire_distribution.csv\", index_col=[0])[2:].T\n",
    "fire_distribution_df"
   ]
  },
  {
   "cell_type": "code",
   "execution_count": null,
   "id": "a44569a5",
   "metadata": {},
   "outputs": [],
   "source": [
    "index_dict = {}\n",
    "\n",
    "for cls in fire_data[\"SIZECLASS\"].unique():\n",
    "    index_dict[cls] = list(fire_data[fire_data[\"SIZECLASS\"] == cls].index)\n",
    "\n",
    "distribution = []\n",
    "\n",
    "for cls in fire_distribution_df.columns:\n",
    "    distribution += [cls] * fire_distribution_df.loc['0', cls]\n",
    "    \n",
    "def calc_damage_estimate(profile, n):\n",
    "    estimates = []\n",
    "    \n",
    "    for test in range(n):\n",
    "        damage_in_dollar = 0\n",
    "        total_area = 0\n",
    "        \n",
    "        while total_area < profile:\n",
    "            sample_class = distribution[random.randint(0, len(distribution))-1]\n",
    "            i = index_dict[sample_class][random.randint(0, len(index_dict[sample_class])-1)]\n",
    "            \n",
    "            cost = fire_data.loc[i, \"COST\"]\n",
    "            km_squared = fire_data.loc[i, \"TOTALKM^2\"]\n",
    "\n",
    "            if (total_area + km_squared) > profile:\n",
    "                damage_in_dollar += (profile - total_area) / km_squared * cost\n",
    "            else:\n",
    "                damage_in_dollar += cost\n",
    "            total_area += km_squared\n",
    "\n",
    "        estimates.append(damage_in_dollar)\n",
    "    return estimates"
   ]
  },
  {
   "cell_type": "code",
   "execution_count": null,
   "id": "96c881ce",
   "metadata": {},
   "outputs": [],
   "source": [
    "x = [i/10**9 for i in calc_damage_estimate(19254.8926013686, 500)]\n",
    "\n",
    "fig, ax = plt.subplots(figsize=(12, 5))\n",
    "\n",
    "ax.hist(x, bins=25, alpha=0.75)\n",
    "ax.set_ylim(0, 60)\n",
    "ax.vlines([np.mean(x)], 0, 60, colors=['green'], label=\"$\\overline{x}$\", lw=2.5)\n",
    "ax.vlines([np.mean(x) - np.std(x), np.mean(x) + np.std(x)], 0, 60, colors=[\"red\", \"red\"],\n",
    "          label=\"$\\overline{x}\\pm \\hat{\\sigma}$\", lw=2.5)\n",
    "\n",
    "ax.vlines([12.079], 0, 60, colors=['black'], label='hivatalos becslés', lw=2.5)\n",
    "\n",
    "ax.plot([], [], ' ', label=\"\\n$\\overline{x}=$\" + f\"{np.mean(x):.3f}\")\n",
    "ax.plot([], [], ' ', label=\"$\\hat{\\sigma}=$\" + f\"{np.std(x):.3f}\")\n",
    "ax.plot([], [], ' ', label=\"valószínűségi-\\nprofil = 19254.89\")\n",
    "\n",
    "ax.set_xlabel(\"kárbecslés $mrd\")\n",
    "ax.set_title(\"Éves becsült összkárok eloszlása, 2020\", fontsize=24)\n",
    "plt.legend(fontsize=12)\n",
    "plt.savefig(\"data/output/valószínűségi-profileloszlás.png\")\n",
    "plt.show()"
   ]
  }
 ],
 "metadata": {
  "kernelspec": {
   "display_name": "Python 3",
   "language": "python",
   "name": "python3"
  },
  "language_info": {
   "codemirror_mode": {
    "name": "ipython",
    "version": 3
   },
   "file_extension": ".py",
   "mimetype": "text/x-python",
   "name": "python",
   "nbconvert_exporter": "python",
   "pygments_lexer": "ipython3",
   "version": "3.8.8"
  }
 },
 "nbformat": 4,
 "nbformat_minor": 5
}
