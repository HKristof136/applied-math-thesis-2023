{
 "cells": [
  {
   "cell_type": "code",
   "execution_count": null,
   "id": "99c6d08d",
   "metadata": {},
   "outputs": [],
   "source": [
    "from sklearn.linear_model import LogisticRegression\n",
    "from sklearn.ensemble import RandomForestRegressor\n",
    "from sklearn.metrics import roc_auc_score\n",
    "from sklearn.metrics import roc_curve, RocCurveDisplay\n",
    "from sklearn.model_selection import GridSearchCV, RandomizedSearchCV, PredefinedSplit\n",
    "from scipy.stats import uniform\n",
    "from xgboost import XGBRegressor\n",
    "\n",
    "import os\n",
    "import json\n",
    "import pandas as pd\n",
    "import numpy as np\n",
    "import matplotlib.pyplot as plt\n",
    "import matplotlib.colors as colors"
   ]
  },
  {
   "cell_type": "code",
   "execution_count": null,
   "id": "22f6e078",
   "metadata": {},
   "outputs": [],
   "source": [
    "validation_df = pd.read_csv('data/datasets/validation_2020.csv', index_col=[0])\n",
    "\n",
    "test_df = pd.read_csv('data/datasets/test_2021.csv', index_col=[0])"
   ]
  },
  {
   "cell_type": "code",
   "execution_count": null,
   "id": "084dda01",
   "metadata": {},
   "outputs": [],
   "source": [
    "sample_datasets = {i: pd.read_csv(f\"datasets/group/{i}.csv\", index_col=[0]) for i in range(20)}"
   ]
  },
  {
   "cell_type": "code",
   "execution_count": null,
   "id": "9cf25142",
   "metadata": {},
   "outputs": [],
   "source": [
    "best_models = {\"logistic\": [], \"random_forest\": [], \"xgboost\": []}\n",
    "\n",
    "for i in range(20):\n",
    "    best_models[\"logistic\"].append(joblib.load(f\"best_models/logreg_{i}.model\"))\n",
    "    best_models['random_forest'].append(joblib.load(f\"best_models/rf_{i}.model\"))\n",
    "    best_models[\"xgboost\"].append(joblib.load(f\"best_models/xgboost_{i}.model\"))"
   ]
  },
  {
   "cell_type": "code",
   "execution_count": null,
   "id": "07f69156",
   "metadata": {},
   "outputs": [],
   "source": [
    "fire_data = pd.read_csv(\"data/input/FIRE/fire_df.csv\", index_col=[0])\n",
    "fire_data.head()"
   ]
  },
  {
   "cell_type": "code",
   "execution_count": null,
   "id": "16d714dd",
   "metadata": {},
   "outputs": [],
   "source": [
    "fire_distribution_df = pd.read_csv(\"data/input/FIRE/fire_distribution.csv\", index_col=[0])[3:].T\n",
    "fire_distribution_df"
   ]
  },
  {
   "cell_type": "code",
   "execution_count": null,
   "id": "0b5a97a3",
   "metadata": {},
   "outputs": [],
   "source": [
    "index_dict = {}\n",
    "\n",
    "for cls in fire_data[\"SIZECLASS\"].unique():\n",
    "    index_dict[cls] = list(fire_data[fire_data[\"SIZECLASS\"] == cls].index)\n",
    "\n",
    "distribution = []\n",
    "\n",
    "for cls in fire_distribution_df.columns:\n",
    "    distribution += [cls] * fire_distribution_df.loc['0', cls]\n",
    "    \n",
    "def calc_damage_estimate(profile, n):\n",
    "    estimates = []\n",
    "    \n",
    "    for test in range(n):\n",
    "        damage_in_dollar = 0\n",
    "        total_area = 0\n",
    "        \n",
    "        while total_area < profile:\n",
    "            sample_class = distribution[random.randint(0, len(distribution))-1]\n",
    "            i = index_dict[sample_class][random.randint(0, len(index_dict[sample_class])-1)]\n",
    "            \n",
    "            cost = fire_data.loc[i, \"COST\"]\n",
    "            km_squared = fire_data.loc[i, \"TOTALKM^2\"]\n",
    "\n",
    "            if (total_area + km_squared) > profile:\n",
    "                damage_in_dollar += (profile - total_area) / km_squared * cost\n",
    "            else:\n",
    "                damage_in_dollar += cost\n",
    "            total_area += km_squared\n",
    "\n",
    "        estimates.append(damage_in_dollar)\n",
    "    return estimates"
   ]
  },
  {
   "cell_type": "code",
   "execution_count": null,
   "id": "3542e51f",
   "metadata": {},
   "outputs": [],
   "source": [
    "optimal_scale_param_df = pd.read_csv(\"models/optimal_scale_params.csv\", index_col=[0])\n",
    "optimal_scale_param_df"
   ]
  },
  {
   "cell_type": "code",
   "execution_count": null,
   "id": "db1934ba",
   "metadata": {},
   "outputs": [],
   "source": [
    "def auc_and_mse_score(y_test, y_preds):\n",
    "    roc_auc = roc_auc_score(y_test, y_preds)\n",
    "    \n",
    "    n = 426327\n",
    "    \n",
    "    output_pairs = []\n",
    "    \n",
    "    for i in range(12):\n",
    "        profile = np.sum(y_test[i*n:(i+1)*n])\n",
    "        predicted_profile = np.sum(y_preds[i*n:(i+1)*n])\n",
    "        \n",
    "        output_pairs.append((profile, predicted_profile))\n",
    "        \n",
    "    mse_score = np.mean((np.array(output_pairs)[:, 0] - np.array(output_pairs)[:, 1]) ** 2)\n",
    "    \n",
    "    return roc_auc, mse_score"
   ]
  },
  {
   "cell_type": "markdown",
   "id": "28e88d7f",
   "metadata": {},
   "source": [
    "# 2021 test year"
   ]
  },
  {
   "cell_type": "code",
   "execution_count": null,
   "id": "904e7ded",
   "metadata": {},
   "outputs": [],
   "source": [
    "y_test = test_df[\"TARGET\"]\n",
    "X_test = test_df[[col for col in test_df if col != \"TARGET\"]]\n",
    "\n",
    "dollar_estimates = {k: {m: [] for m in range(20)} for k in [\"logistic\", \"random_forest\", \"xgboost\"]}\n",
    "\n",
    "auc_scores = {k: [] for k in [\"logistic\", \"random_forest\", \"xgboost\"]}\n",
    "\n",
    "profile_mse_scores = {k: [] for k in [\"logistic\", \"random_forest\", \"xgboost\"]}\n",
    "\n",
    "for i, train_dataset in sample_datasets.items():\n",
    "    model = best_models[\"logistic\"][i]\n",
    "    \n",
    "    y_preds = model.predict_proba(X_test)[:, 1]\n",
    "    \n",
    "    opt_c = optimal_scale_param_df.loc[i, 'logistic']\n",
    "    \n",
    "    roc_auc, mse_score = auc_and_mse_score(y_test, opt_c*y_preds)\n",
    "    \n",
    "    auc_scores['logistic'].append(roc_auc)\n",
    "    \n",
    "    profile_mse_scores['logistic'].append(mse_score)\n",
    "    \n",
    "    dollar_estimates['logistic'][i] += calc_damage_estimate(opt_c * np.sum(y_preds), 50)\n",
    "    \n",
    "    #############################################\n",
    "    \n",
    "    model = best_models[\"random_forest\"][i]\n",
    "    \n",
    "    y_preds = model.predict(X_test)\n",
    "    \n",
    "    opt_c = optimal_scale_param_df.loc[i, 'random_forest']\n",
    "    \n",
    "    roc_auc, mse_score = auc_and_mse_score(y_test, opt_c*y_preds)\n",
    "    \n",
    "    auc_scores['random_forest'].append(roc_auc)\n",
    "    \n",
    "    profile_mse_scores['random_forest'].append(mse_score)\n",
    "    \n",
    "    dollar_estimates[\"random_forest\"][i] += calc_damage_estimate(np.sum(opt_c*y_preds), 50)\n",
    "    \n",
    "    ############################################\n",
    "    \n",
    "    model = best_models[\"xgboost\"][i]\n",
    "    \n",
    "    y_preds = model.predict(X_test)\n",
    "    \n",
    "    opt_c = optimal_scale_param_df.loc[i, 'xgboost']\n",
    "    \n",
    "    roc_auc, mse_score = auc_and_mse_score(y_test, opt_c*y_preds)\n",
    "    \n",
    "    auc_scores['xgboost'].append(roc_auc)\n",
    "    \n",
    "    profile_mse_scores['xgboost'].append(mse_score)\n",
    "    \n",
    "    dollar_estimates[\"xgboost\"][i] += calc_damage_estimate(np.sum(opt_c*y_preds), 50)"
   ]
  },
  {
   "cell_type": "code",
   "execution_count": null,
   "id": "9c3dbab7",
   "metadata": {},
   "outputs": [],
   "source": [
    "fig, ax = plt.subplots(figsize=(10, 4))\n",
    "\n",
    "ax.boxplot(list(auc_scores.values()))\n",
    "ax.set_xticklabels(['Logisztikus regresszió', 'Random Forest', 'XGBRegressor'], fontsize=12)\n",
    "ax.set_ylabel(\"AUC\", fontsize=14)\n",
    "\n",
    "plt.savefig(\"data/output/results/test_auc_compare.png\")\n",
    "plt.show()"
   ]
  },
  {
   "cell_type": "code",
   "execution_count": null,
   "id": "124df934",
   "metadata": {},
   "outputs": [],
   "source": [
    "fig, ax = plt.subplots(figsize=(10, 4))\n",
    "\n",
    "ax.boxplot(list(profile_mse_scores.values()))\n",
    "ax.set_xticklabels(['Logisztikus regresszió', 'Random Forest', 'XGBRegressor'], fontsize=12)\n",
    "ax.set_ylabel(\"valószínűség-profil MSE\", fontsize=14)\n",
    "\n",
    "plt.savefig(\"data/output/results/test_profile_mse.png\")\n",
    "plt.show()"
   ]
  },
  {
   "cell_type": "markdown",
   "id": "1e9b5eb4",
   "metadata": {},
   "source": [
    "# 2020 validation year"
   ]
  },
  {
   "cell_type": "code",
   "execution_count": null,
   "id": "315ed8ed",
   "metadata": {},
   "outputs": [],
   "source": [
    "dollar_estimates_2020 = {k: {m: [] for m in range(20)} for k in [\"logistic\", \"random_forest\", \"xgboost\"]}\n",
    "\n",
    "y_valid = validation_df[\"TARGET\"]\n",
    "X_valid = validation_df[[col for col in validation_df if col != \"TARGET\"]]\n",
    "\n",
    "for i, train_dataset in sample_datasets.items():\n",
    "    model = best_models[\"logistic\"][i]\n",
    "    \n",
    "    y_preds = model.predict_proba(X_valid)[:, 1]\n",
    "    \n",
    "    opt_c = optimal_scale_param_df.loc[i, 'logistic']\n",
    "    \n",
    "    dollar_estimates_2020['logistic'][i] += calc_damage_estimate(opt_c * np.sum(y_preds), 50)\n",
    "    \n",
    "    #############################################\n",
    "    \n",
    "    model = best_models[\"random_forest\"][i]\n",
    "    \n",
    "    y_preds = model.predict(X_valid)\n",
    "    \n",
    "    opt_c = optimal_scale_param_df.loc[i, 'random_forest']\n",
    "    \n",
    "    dollar_estimates_2020[\"random_forest\"][i] += calc_damage_estimate(np.sum(opt_c*y_preds), 50)\n",
    "    \n",
    "    ############################################\n",
    "    \n",
    "    model = best_models[\"xgboost\"][i]\n",
    "    \n",
    "    y_preds = model.predict(X_valid)\n",
    "    \n",
    "    opt_c = optimal_scale_param_df.loc[i, 'xgboost']\n",
    "    \n",
    "    dollar_estimates_2020[\"xgboost\"][i] += calc_damage_estimate(np.sum(opt_c*y_preds), 50)"
   ]
  },
  {
   "cell_type": "markdown",
   "id": "cf0e5b8e",
   "metadata": {},
   "source": [
    "# Comparison"
   ]
  },
  {
   "cell_type": "code",
   "execution_count": null,
   "id": "a87ad9e9",
   "metadata": {},
   "outputs": [],
   "source": [
    "fig, ax = plt.subplots(1, 2, figsize=(12, 5))\n",
    "\n",
    "to_plot = [np.array(list(dollar_estimates_2020['logistic'].values())).flatten() / 10**9,\n",
    "          np.array(list(dollar_estimates_2020['random_forest'].values())).flatten() / 10**9,\n",
    "          np.array(list(dollar_estimates_2020['xgboost'].values())).flatten() / 10**9]\n",
    "\n",
    "ax[0].set_title(\"2020\", fontsize=18, pad=7)\n",
    "ax[0].boxplot(to_plot)\n",
    "ax[0].set_xticklabels(['Logisztikus\\nregresszió', 'Random\\nForest', 'XGBRegressor'], fontsize=12)\n",
    "ax[0].set_ylabel(\"kárbecslés $mrd\", fontsize=14)\n",
    "ax[0].set_xlim(0.5, 3.5)\n",
    "ax[0].hlines([12.079], 0, 4, color='red', label='hivatalos becslés')\n",
    "\n",
    "ax[0].legend()\n",
    "\n",
    "to_plot = [np.array(list(dollar_estimates['logistic'].values())).flatten() / 10**9,\n",
    "          np.array(list(dollar_estimates['random_forest'].values())).flatten() / 10**9,\n",
    "          np.array(list(dollar_estimates['xgboost'].values())).flatten() / 10**9]\n",
    "\n",
    "ax[1].set_title(\"2021\", fontsize=18, pad=7)\n",
    "ax[1].boxplot(to_plot)\n",
    "ax[1].set_xticklabels(['Logisztikus\\nregresszió', 'Random\\nForest', 'XGBRegressor'], fontsize=12)\n",
    "ax[1].set_ylabel(\"kárbecslés $mrd\", fontsize=14)\n",
    "ax[1].plot([], [], ' ', label='nincs még \\nhivatalos becslés')\n",
    "ax[1].legend()\n",
    "\n",
    "plt.savefig(\"data/output/results/compare_cost_estimate.png\")\n",
    "plt.show()"
   ]
  },
  {
   "cell_type": "markdown",
   "id": "c8e8b7d3",
   "metadata": {},
   "source": [
    "# Predicted probabilty map example"
   ]
  },
  {
   "cell_type": "code",
   "execution_count": null,
   "id": "b55e4479",
   "metadata": {},
   "outputs": [],
   "source": [
    "february_y = validation_df[426327: 2*426327]['TARGET']\n",
    "february_df = validation_df[426327: 2*426327][[col for col in validation_df if col != 'TARGET']]\n",
    "\n",
    "aufust_y = validation_df[7*426327: 8*426327]['TARGET']\n",
    "august_df = validation_df[7*426327: 8*426327][[col for col in validation_df if col != 'TARGET']]"
   ]
  },
  {
   "cell_type": "code",
   "execution_count": null,
   "id": "c51168e1",
   "metadata": {},
   "outputs": [],
   "source": [
    "cm = plt.cm.get_cmap(\"RdYlGn_r\")\n",
    "\n",
    "n = 100\n",
    "a = 0.2\n",
    "b = 0.9\n",
    "\n",
    "new_cmap = colors.LinearSegmentedColormap.from_list(f'trunc({n},{a:.2f},{b:.2f})',\n",
    "                                                   cm(np.linspace(a, b, n)))"
   ]
  },
  {
   "cell_type": "code",
   "execution_count": null,
   "id": "cfb5fc24",
   "metadata": {},
   "outputs": [],
   "source": [
    "fig, ax = plt.subplots(1, 2, figsize=(16, 8))\n",
    "\n",
    "opt_c = optimal_scale_param_df.loc[19, 'xgboost']\n",
    "\n",
    "febr_c = opt_c * best_models['xgboost'][19].predict(february_df)\n",
    "\n",
    "ax[0].set_axis_off()\n",
    "febr_sc = ax[0].scatter(february_df['lon'].values, february_df['lat'].values, c=febr_c, s=0.1, cmap=new_cmap)\n",
    "ax[0].set_title(\"XGBoost predikció térkép, \\n2020 február\", fontsize=18)\n",
    "plt.colorbar(febr_sc, ax=ax[0])\n",
    "\n",
    "aug_c = opt_c * best_models['xgboost'][19].predict(august_df)\n",
    "\n",
    "ax[1].set_axis_off()\n",
    "aug_sc = ax[1].scatter(august_df['lon'].values, august_df['lat'].values, c=aug_c, s=0.1, cmap=new_cmap)\n",
    "ax[1].set_title(\"XGBoost predikció térkép, \\n2020 augusztus\", fontsize=18)\n",
    "plt.colorbar(aug_sc, ax=ax[1])\n",
    "\n",
    "plt.savefig(\"data/output/results/xgboost_pred_maps.png\")\n",
    "plt.show()"
   ]
  }
 ],
 "metadata": {
  "kernelspec": {
   "display_name": "Python 3",
   "language": "python",
   "name": "python3"
  },
  "language_info": {
   "codemirror_mode": {
    "name": "ipython",
    "version": 3
   },
   "file_extension": ".py",
   "mimetype": "text/x-python",
   "name": "python",
   "nbconvert_exporter": "python",
   "pygments_lexer": "ipython3",
   "version": "3.8.8"
  }
 },
 "nbformat": 4,
 "nbformat_minor": 5
}
